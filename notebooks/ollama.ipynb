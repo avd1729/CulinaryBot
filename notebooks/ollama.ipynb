{
 "cells": [
  {
   "cell_type": "code",
   "execution_count": 1,
   "metadata": {},
   "outputs": [],
   "source": [
    "from langchain_community.llms import Ollama"
   ]
  },
  {
   "cell_type": "code",
   "execution_count": 2,
   "metadata": {},
   "outputs": [
    {
     "data": {
      "text/plain": [
       "'\\nThe first man on the moon was Neil Armstrong. He stepped foot on the moon\\'s surface on July 20, 1969, during the Apollo 11 mission. Armstrong famously declared, \"That\\'s one small step for man, one giant leap for mankind,\" as he became the first human to walk on the lunar surface.'"
      ]
     },
     "execution_count": 2,
     "metadata": {},
     "output_type": "execute_result"
    }
   ],
   "source": [
    "llm = Ollama(model=\"llama2\")\n",
    "llm.invoke(\"The first man on the moon was ...\")"
   ]
  },
  {
   "cell_type": "code",
   "execution_count": 3,
   "metadata": {},
   "outputs": [],
   "source": [
    "# llm.invoke(\"Is this a good dish : Grilled chicken served in a spicy chipotle sauce, topped with lettuce, cheese, and salsa\")"
   ]
  },
  {
   "cell_type": "code",
   "execution_count": 4,
   "metadata": {},
   "outputs": [],
   "source": [
    "import os\n"
   ]
  },
  {
   "cell_type": "code",
   "execution_count": 5,
   "metadata": {},
   "outputs": [
    {
     "name": "stderr",
     "output_type": "stream",
     "text": [
      "Exception in thread Thread-6 (_readerthread):\n",
      "Traceback (most recent call last):\n",
      "  File \"c:\\Users\\Aravind\\AppData\\Local\\Programs\\Python\\Python311\\Lib\\threading.py\", line 1038, in _bootstrap_inner\n",
      "    self.run()\n",
      "  File \"c:\\Users\\Aravind\\AppData\\Local\\Programs\\Python\\Python311\\Lib\\threading.py\", line 975, in run\n",
      "    self._target(*self._args, **self._kwargs)\n",
      "  File \"c:\\Users\\Aravind\\AppData\\Local\\Programs\\Python\\Python311\\Lib\\subprocess.py\", line 1597, in _readerthread\n",
      "    buffer.append(fh.read())\n",
      "                  ^^^^^^^^^\n",
      "  File \"c:\\Users\\Aravind\\AppData\\Local\\Programs\\Python\\Python311\\Lib\\encodings\\cp1252.py\", line 23, in decode\n",
      "    return codecs.charmap_decode(input,self.errors,decoding_table)[0]\n",
      "           ^^^^^^^^^^^^^^^^^^^^^^^^^^^^^^^^^^^^^^^^^^^^^^^^^^^^^^^\n",
      "UnicodeDecodeError: 'charmap' codec can't decode byte 0x8f in position 200: character maps to <undefined>\n"
     ]
    },
    {
     "name": "stdout",
     "output_type": "stream",
     "text": [
      "Yes, this sounds like a delicious and flavorful dish! The combination of grilled chicken, spicy chipotle sauce, crunchy lettuce, creamy cheese, and tangy salsa should provide a great texture and taste experience. The spicy kick from the chipotle sauce can be balanced by the cooling effects of the lettuce and cheese, making it a well-rounded dish. Overall, I would say yes, this is a good dish!\n",
      "\n",
      "\n"
     ]
    }
   ],
   "source": [
    "import subprocess\n",
    "\n",
    "# Define the command\n",
    "command = \"ollama run llama2\"\n",
    "\n",
    "# Open a subprocess and communicate with it\n",
    "process = subprocess.Popen(command, shell=True, stdin=subprocess.PIPE, stdout=subprocess.PIPE, stderr=subprocess.PIPE, text=True)\n",
    "\n",
    "# Provide input to the command\n",
    "# For example, if the command expects user input:\n",
    "user_input = \"Is this a good dish (answer yes or no): Grilled chicken served in a spicy chipotle sauce, topped with lettuce, cheese, and salsa\\n\"\n",
    "process.stdin.write(user_input)\n",
    "process.stdin.flush()\n",
    "\n",
    "# Get the output of the command\n",
    "output, error = process.communicate()\n",
    "\n",
    "# Print the output\n",
    "print(output)\n",
    "\n",
    "# Check for errors\n",
    "if error:\n",
    "    print(\"Error:\", error)\n"
   ]
  },
  {
   "cell_type": "code",
   "execution_count": 6,
   "metadata": {},
   "outputs": [],
   "source": [
    "import subprocess\n",
    "\n",
    "# Define the command\n",
    "command = \"ollama run llama2\"\n",
    "\n",
    "# Provide a message to add to the LLama command\n",
    "llama_message = \"Assess newly submitted menus from kitchens. you should review the menus based on factors such as dish uniqueness,ingredient availability , name and description of the menu\"\n",
    "\n",
    "\n",
    "# Open a subprocess and communicate with it\n",
    "process = subprocess.Popen(command, shell=True, stdin=subprocess.PIPE, stdout=subprocess.PIPE, stderr=subprocess.PIPE, text=True)\n",
    "\n",
    "# Provide input to the command\n",
    "# For example, if the command expects user input:\n",
    "user_input = \"Grilled chicken served in a spicy chipotle sauce, topped with lettuce, cheese, and salsa\" + \"\\n\"  # Prompt the user for input and append newline character\n",
    "full_input = llama_message + \" \" + user_input  # Combine the LLama message and user input\n",
    "process.stdin.write(full_input)\n",
    "process.stdin.flush()\n",
    "\n",
    "# Get the output of the command\n",
    "output, error = process.communicate()\n",
    "\n",
    "# Print the output\n",
    "print(output)\n",
    "\n",
    "# Check for errors\n",
    "if error:\n",
    "    print(\"Error:\", error)\n"
   ]
  }
 ],
 "metadata": {
  "kernelspec": {
   "display_name": "Python 3",
   "language": "python",
   "name": "python3"
  },
  "language_info": {
   "codemirror_mode": {
    "name": "ipython",
    "version": 3
   },
   "file_extension": ".py",
   "mimetype": "text/x-python",
   "name": "python",
   "nbconvert_exporter": "python",
   "pygments_lexer": "ipython3",
   "version": "3.11.5"
  }
 },
 "nbformat": 4,
 "nbformat_minor": 2
}
