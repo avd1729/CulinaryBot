{
 "cells": [
  {
   "cell_type": "code",
   "execution_count": 1,
   "id": "3ec99ebf",
   "metadata": {
    "execution": {
     "iopub.execute_input": "2024-04-16T08:42:35.886011Z",
     "iopub.status.busy": "2024-04-16T08:42:35.885141Z",
     "iopub.status.idle": "2024-04-16T08:42:36.656040Z",
     "shell.execute_reply": "2024-04-16T08:42:36.655185Z"
    },
    "papermill": {
     "duration": 0.783816,
     "end_time": "2024-04-16T08:42:36.658695",
     "exception": false,
     "start_time": "2024-04-16T08:42:35.874879",
     "status": "completed"
    },
    "tags": []
   },
   "outputs": [],
   "source": [
    "import pandas as pd\n",
    "import json\n",
    "\n",
    "def create_dataframe(annotations_path):\n",
    "    with open(annotations_path, 'r') as file:\n",
    "        data = json.load(file)\n",
    "\n",
    "    images = pd.DataFrame(data['images']).rename(columns={'id': 'image_id'})[['image_id', 'file_name']]\n",
    "\n",
    "    categories = pd.DataFrame(data['categories'])[['id', 'name']]\n",
    "    categories.rename(columns={'id': 'category_id'}, inplace=True)\n",
    "\n",
    "    usecols = ['image_id', 'category_id']\n",
    "    annotations = pd.DataFrame(data['annotations'])[usecols]\n",
    "\n",
    "    dataframe = annotations.merge(categories, on='category_id').merge(images, on='image_id')[['file_name', 'name']]\n",
    "    \n",
    "    return dataframe"
   ]
  },
  {
   "cell_type": "code",
   "execution_count": 2,
   "id": "b2f611f3",
   "metadata": {
    "execution": {
     "iopub.execute_input": "2024-04-16T08:42:36.676524Z",
     "iopub.status.busy": "2024-04-16T08:42:36.676020Z",
     "iopub.status.idle": "2024-04-16T08:42:44.413834Z",
     "shell.execute_reply": "2024-04-16T08:42:44.412868Z"
    },
    "papermill": {
     "duration": 7.749544,
     "end_time": "2024-04-16T08:42:44.416468",
     "exception": false,
     "start_time": "2024-04-16T08:42:36.666924",
     "status": "completed"
    },
    "tags": []
   },
   "outputs": [],
   "source": [
    "train_df = create_dataframe(r'/kaggle/input/food-recognition-2022/raw_data/public_training_set_release_2.0/annotations.json')"
   ]
  },
  {
   "cell_type": "code",
   "execution_count": 3,
   "id": "9f6971a2",
   "metadata": {
    "execution": {
     "iopub.execute_input": "2024-04-16T08:42:44.434028Z",
     "iopub.status.busy": "2024-04-16T08:42:44.433674Z",
     "iopub.status.idle": "2024-04-16T08:42:56.376256Z",
     "shell.execute_reply": "2024-04-16T08:42:56.375120Z"
    },
    "papermill": {
     "duration": 11.954438,
     "end_time": "2024-04-16T08:42:56.379081",
     "exception": false,
     "start_time": "2024-04-16T08:42:44.424643",
     "status": "completed"
    },
    "tags": []
   },
   "outputs": [],
   "source": [
    "import os\n",
    "\n",
    "splits = ['train', 'validation']\n",
    "\n",
    "for split in splits:\n",
    "    root = f'/kaggle/working/dataset/{split}'\n",
    "\n",
    "    for index, row in train_df.iterrows():\n",
    "        directory_name = row['name']\n",
    "        directory_path = os.path.join(root, directory_name)\n",
    "\n",
    "        if not os.path.exists(directory_path):\n",
    "            os.makedirs(directory_path)"
   ]
  },
  {
   "cell_type": "code",
   "execution_count": 4,
   "id": "8829ea2a",
   "metadata": {
    "execution": {
     "iopub.execute_input": "2024-04-16T08:42:56.397077Z",
     "iopub.status.busy": "2024-04-16T08:42:56.396689Z",
     "iopub.status.idle": "2024-04-16T08:42:56.534343Z",
     "shell.execute_reply": "2024-04-16T08:42:56.533459Z"
    },
    "papermill": {
     "duration": 0.149616,
     "end_time": "2024-04-16T08:42:56.536933",
     "exception": false,
     "start_time": "2024-04-16T08:42:56.387317",
     "status": "completed"
    },
    "tags": []
   },
   "outputs": [],
   "source": [
    "validation_df = create_dataframe(r'/kaggle/input/food-recognition-2022/raw_data/public_validation_set_2.0/annotations.json')"
   ]
  },
  {
   "cell_type": "code",
   "execution_count": 5,
   "id": "55a72f67",
   "metadata": {
    "execution": {
     "iopub.execute_input": "2024-04-16T08:42:56.554499Z",
     "iopub.status.busy": "2024-04-16T08:42:56.554103Z",
     "iopub.status.idle": "2024-04-16T08:42:56.561516Z",
     "shell.execute_reply": "2024-04-16T08:42:56.560521Z"
    },
    "papermill": {
     "duration": 0.018923,
     "end_time": "2024-04-16T08:42:56.563914",
     "exception": false,
     "start_time": "2024-04-16T08:42:56.544991",
     "status": "completed"
    },
    "tags": []
   },
   "outputs": [],
   "source": [
    "import os\n",
    "import shutil\n",
    "\n",
    "def copy_images_to_destination(base_dir, dataframe, split):\n",
    "    images_dir = os.path.join(base_dir, 'images')\n",
    "\n",
    "    for index, row in dataframe.iterrows():\n",
    "        file_name = row['file_name']\n",
    "        file_class = row['name']\n",
    "\n",
    "        dest_dir = os.path.join('/kaggle/working', 'dataset', split, file_class)\n",
    "        os.makedirs(dest_dir, exist_ok=True)\n",
    "\n",
    "        source_path = os.path.join(images_dir, file_name)\n",
    "        destination_path = os.path.join(dest_dir, file_name)\n",
    "\n",
    "        shutil.copyfile(source_path, destination_path)\n",
    "\n",
    "    print(\"Done copying images.\")"
   ]
  },
  {
   "cell_type": "code",
   "execution_count": 6,
   "id": "a084f9bc",
   "metadata": {
    "execution": {
     "iopub.execute_input": "2024-04-16T08:42:56.580855Z",
     "iopub.status.busy": "2024-04-16T08:42:56.580527Z",
     "iopub.status.idle": "2024-04-16T08:51:23.841923Z",
     "shell.execute_reply": "2024-04-16T08:51:23.840872Z"
    },
    "papermill": {
     "duration": 507.28042,
     "end_time": "2024-04-16T08:51:23.852222",
     "exception": false,
     "start_time": "2024-04-16T08:42:56.571802",
     "status": "completed"
    },
    "tags": []
   },
   "outputs": [
    {
     "name": "stdout",
     "output_type": "stream",
     "text": [
      "Done copying images.\n"
     ]
    }
   ],
   "source": [
    "# copying training images to their respective classes\n",
    "\n",
    "base_dir = '/kaggle/input/food-recognition-2022/raw_data/public_training_set_release_2.0'\n",
    "dataframe = train_df\n",
    "copy_images_to_destination(base_dir, dataframe, 'train')"
   ]
  },
  {
   "cell_type": "code",
   "execution_count": 7,
   "id": "fd4e0e88",
   "metadata": {
    "execution": {
     "iopub.execute_input": "2024-04-16T08:51:23.869999Z",
     "iopub.status.busy": "2024-04-16T08:51:23.869628Z",
     "iopub.status.idle": "2024-04-16T08:51:36.482813Z",
     "shell.execute_reply": "2024-04-16T08:51:36.481672Z"
    },
    "papermill": {
     "duration": 12.624833,
     "end_time": "2024-04-16T08:51:36.485331",
     "exception": false,
     "start_time": "2024-04-16T08:51:23.860498",
     "status": "completed"
    },
    "tags": []
   },
   "outputs": [
    {
     "name": "stdout",
     "output_type": "stream",
     "text": [
      "Done copying images.\n"
     ]
    }
   ],
   "source": [
    "# copying validation images to their respective classes\n",
    "\n",
    "base_dir = '/kaggle/input/food-recognition-2022/raw_data/public_validation_set_2.0'\n",
    "dataframe = validation_df\n",
    "copy_images_to_destination(base_dir, dataframe, 'validation')"
   ]
  },
  {
   "cell_type": "code",
   "execution_count": 8,
   "id": "e2a47d1c",
   "metadata": {
    "execution": {
     "iopub.execute_input": "2024-04-16T08:51:36.504347Z",
     "iopub.status.busy": "2024-04-16T08:51:36.503997Z",
     "iopub.status.idle": "2024-04-16T08:51:55.341641Z",
     "shell.execute_reply": "2024-04-16T08:51:55.340505Z"
    },
    "papermill": {
     "duration": 18.850566,
     "end_time": "2024-04-16T08:51:55.344302",
     "exception": false,
     "start_time": "2024-04-16T08:51:36.493736",
     "status": "completed"
    },
    "tags": []
   },
   "outputs": [
    {
     "name": "stderr",
     "output_type": "stream",
     "text": [
      "/opt/conda/lib/python3.10/site-packages/scipy/__init__.py:146: UserWarning: A NumPy version >=1.16.5 and <1.23.0 is required for this version of SciPy (detected version 1.24.3\n",
      "  warnings.warn(f\"A NumPy version >={np_minversion} and <{np_maxversion}\"\n"
     ]
    },
    {
     "name": "stdout",
     "output_type": "stream",
     "text": [
      "Found 70397 files belonging to 498 classes.\n"
     ]
    }
   ],
   "source": [
    "from tensorflow.keras.utils import image_dataset_from_directory as ImageDataset\n",
    "\n",
    "train = ImageDataset(\n",
    "    directory=r'/kaggle/working/dataset/train',\n",
    "    label_mode='categorical',\n",
    "    batch_size=32,\n",
    "    image_size=(299, 299)\n",
    ")"
   ]
  },
  {
   "cell_type": "code",
   "execution_count": 9,
   "id": "697b1ab0",
   "metadata": {
    "execution": {
     "iopub.execute_input": "2024-04-16T08:51:55.363301Z",
     "iopub.status.busy": "2024-04-16T08:51:55.362901Z",
     "iopub.status.idle": "2024-04-16T08:51:55.625273Z",
     "shell.execute_reply": "2024-04-16T08:51:55.624314Z"
    },
    "papermill": {
     "duration": 0.274899,
     "end_time": "2024-04-16T08:51:55.627933",
     "exception": false,
     "start_time": "2024-04-16T08:51:55.353034",
     "status": "completed"
    },
    "tags": []
   },
   "outputs": [
    {
     "name": "stdout",
     "output_type": "stream",
     "text": [
      "Found 1799 files belonging to 498 classes.\n"
     ]
    }
   ],
   "source": [
    "validation = ImageDataset(\n",
    "    directory=r'/kaggle/working/dataset/validation',\n",
    "    label_mode='categorical',\n",
    "    batch_size=32,\n",
    "    image_size=(299, 299)\n",
    ")"
   ]
  },
  {
   "cell_type": "code",
   "execution_count": 10,
   "id": "9ef28c3b",
   "metadata": {
    "execution": {
     "iopub.execute_input": "2024-04-16T08:51:55.646324Z",
     "iopub.status.busy": "2024-04-16T08:51:55.645965Z",
     "iopub.status.idle": "2024-04-16T08:51:56.279149Z",
     "shell.execute_reply": "2024-04-16T08:51:56.277984Z"
    },
    "papermill": {
     "duration": 0.645261,
     "end_time": "2024-04-16T08:51:56.281830",
     "exception": false,
     "start_time": "2024-04-16T08:51:55.636569",
     "status": "completed"
    },
    "tags": []
   },
   "outputs": [],
   "source": [
    "element = validation.as_numpy_iterator().next()"
   ]
  },
  {
   "cell_type": "code",
   "execution_count": 11,
   "id": "57b0dd6e",
   "metadata": {
    "execution": {
     "iopub.execute_input": "2024-04-16T08:51:56.301360Z",
     "iopub.status.busy": "2024-04-16T08:51:56.300598Z",
     "iopub.status.idle": "2024-04-16T08:51:56.308819Z",
     "shell.execute_reply": "2024-04-16T08:51:56.307797Z"
    },
    "papermill": {
     "duration": 0.019989,
     "end_time": "2024-04-16T08:51:56.311019",
     "exception": false,
     "start_time": "2024-04-16T08:51:56.291030",
     "status": "completed"
    },
    "tags": []
   },
   "outputs": [
    {
     "data": {
      "text/plain": [
       "((299, 299, 3), (498,))"
      ]
     },
     "execution_count": 11,
     "metadata": {},
     "output_type": "execute_result"
    }
   ],
   "source": [
    "x, y = element\n",
    "x[0].shape, y[0].shape"
   ]
  },
  {
   "cell_type": "code",
   "execution_count": 12,
   "id": "c2f9b6bb",
   "metadata": {
    "execution": {
     "iopub.execute_input": "2024-04-16T08:51:56.329408Z",
     "iopub.status.busy": "2024-04-16T08:51:56.329081Z",
     "iopub.status.idle": "2024-04-16T08:51:56.334374Z",
     "shell.execute_reply": "2024-04-16T08:51:56.333330Z"
    },
    "papermill": {
     "duration": 0.017008,
     "end_time": "2024-04-16T08:51:56.336508",
     "exception": false,
     "start_time": "2024-04-16T08:51:56.319500",
     "status": "completed"
    },
    "tags": []
   },
   "outputs": [],
   "source": [
    "# import tensorflow as tf\n",
    "# import keras\n",
    "# from tensorflow.keras.applications import InceptionResNetV2\n",
    "# from tensorflow.keras.applications.inception_resnet_v2 import preprocess_input\n",
    "\n",
    "# strategy = tf.distribute.MirroredStrategy()\n",
    "\n",
    "# with strategy.scope():\n",
    "#     inception = InceptionResNetV2(include_top=False,\n",
    "#                           weights='imagenet')\n",
    "\n",
    "#     inception.trainable = False\n",
    "\n",
    "#     inputs = keras.Input(shape=(None, None, 3))\n",
    "\n",
    "#     x = preprocess_input(inputs)\n",
    "#     x = inception(x, training=False)\n",
    "#     x = keras.layers.GlobalAveragePooling2D()(x)\n",
    "#     outputs = keras.layers.Dense(498, activation='softmax')(x)\n",
    "\n",
    "#     model = keras.Model(inputs=inputs, outputs=outputs)\n",
    "\n",
    "#     model.summary()\n",
    "\n",
    "#     model.compile(optimizer=tf.keras.optimizers.Adam(l),\n",
    "#                       loss=tf.keras.losses.CategoricalCrossentropy(),\n",
    "#                       metrics=[tf.keras.metrics.CategoricalAccuracy()])"
   ]
  },
  {
   "cell_type": "code",
   "execution_count": 13,
   "id": "7b9cf6eb",
   "metadata": {
    "execution": {
     "iopub.execute_input": "2024-04-16T08:51:56.354502Z",
     "iopub.status.busy": "2024-04-16T08:51:56.354162Z",
     "iopub.status.idle": "2024-04-16T08:51:56.358762Z",
     "shell.execute_reply": "2024-04-16T08:51:56.357761Z"
    },
    "papermill": {
     "duration": 0.016058,
     "end_time": "2024-04-16T08:51:56.360909",
     "exception": false,
     "start_time": "2024-04-16T08:51:56.344851",
     "status": "completed"
    },
    "tags": []
   },
   "outputs": [],
   "source": [
    "#  callback = tf.keras.callbacks.EarlyStopping(monitor='val_loss', patience=8)"
   ]
  },
  {
   "cell_type": "code",
   "execution_count": 14,
   "id": "7a070c1d",
   "metadata": {
    "execution": {
     "iopub.execute_input": "2024-04-16T08:51:56.378848Z",
     "iopub.status.busy": "2024-04-16T08:51:56.378511Z",
     "iopub.status.idle": "2024-04-16T08:51:56.382754Z",
     "shell.execute_reply": "2024-04-16T08:51:56.381785Z"
    },
    "papermill": {
     "duration": 0.015662,
     "end_time": "2024-04-16T08:51:56.384945",
     "exception": false,
     "start_time": "2024-04-16T08:51:56.369283",
     "status": "completed"
    },
    "tags": []
   },
   "outputs": [],
   "source": [
    "# history = model.fit(train,\n",
    "#                     epochs=32,\n",
    "#                     validation_data=validation,\n",
    "#                     callbacks=[callback]\n",
    "#                    )"
   ]
  },
  {
   "cell_type": "code",
   "execution_count": 15,
   "id": "84d36198",
   "metadata": {
    "execution": {
     "iopub.execute_input": "2024-04-16T08:51:56.403117Z",
     "iopub.status.busy": "2024-04-16T08:51:56.402813Z",
     "iopub.status.idle": "2024-04-16T08:51:56.412962Z",
     "shell.execute_reply": "2024-04-16T08:51:56.411973Z"
    },
    "papermill": {
     "duration": 0.021726,
     "end_time": "2024-04-16T08:51:56.415057",
     "exception": false,
     "start_time": "2024-04-16T08:51:56.393331",
     "status": "completed"
    },
    "tags": []
   },
   "outputs": [],
   "source": [
    "import tensorflow as tf\n",
    "from functools import partial\n",
    "\n",
    "DefaultConv2D = partial(tf.keras.layers.Conv2D, kernel_size=3, strides=1,\n",
    "                        padding=\"same\", kernel_initializer=\"he_normal\",\n",
    "                        use_bias=False)\n",
    "\n",
    "class ResidualUnit(tf.keras.layers.Layer):\n",
    "    def __init__(self, filters, strides=1, activation=\"relu\", **kwargs):\n",
    "        super().__init__(**kwargs)\n",
    "        self.activation = tf.keras.activations.get(activation)\n",
    "        self.main_layers = [\n",
    "            DefaultConv2D(filters, strides=strides),\n",
    "            tf.keras.layers.BatchNormalization(),\n",
    "            self.activation,\n",
    "            DefaultConv2D(filters),\n",
    "            tf.keras.layers.BatchNormalization()\n",
    "        ]\n",
    "        self.skip_layers = []\n",
    "        if strides > 1:\n",
    "            self.skip_layers = [\n",
    "                DefaultConv2D(filters, kernel_size=1, strides=strides),\n",
    "                tf.keras.layers.BatchNormalization()\n",
    "            ]\n",
    "\n",
    "    def call(self, inputs):\n",
    "        Z = inputs\n",
    "        for layer in self.main_layers:\n",
    "            Z = layer(Z)\n",
    "        skip_Z = inputs\n",
    "        for layer in self.skip_layers:\n",
    "            skip_Z = layer(skip_Z)\n",
    "        return self.activation(Z + skip_Z)"
   ]
  },
  {
   "cell_type": "code",
   "execution_count": 16,
   "id": "362308a1",
   "metadata": {
    "execution": {
     "iopub.execute_input": "2024-04-16T08:51:56.432993Z",
     "iopub.status.busy": "2024-04-16T08:51:56.432665Z",
     "iopub.status.idle": "2024-04-16T08:51:57.608194Z",
     "shell.execute_reply": "2024-04-16T08:51:57.607308Z"
    },
    "papermill": {
     "duration": 1.18751,
     "end_time": "2024-04-16T08:51:57.610868",
     "exception": false,
     "start_time": "2024-04-16T08:51:56.423358",
     "status": "completed"
    },
    "tags": []
   },
   "outputs": [],
   "source": [
    "model = tf.keras.Sequential([\n",
    "    DefaultConv2D(64, kernel_size=7, strides=2, input_shape=(299, 299, 3)),\n",
    "    tf.keras.layers.BatchNormalization(),\n",
    "    tf.keras.layers.Activation(\"relu\"),\n",
    "    tf.keras.layers.MaxPool2D(pool_size=3, strides=2, padding=\"same\"),\n",
    "])\n",
    "prev_filters = 64\n",
    "for filters in [64] * 3 + [128] * 4 + [256] * 6 + [512] * 3:\n",
    "    strides = 1 if filters == prev_filters else 2\n",
    "    model.add(ResidualUnit(filters, strides=strides))\n",
    "    prev_filters = filters\n",
    "\n",
    "model.add(tf.keras.layers.GlobalAvgPool2D())\n",
    "model.add(tf.keras.layers.Flatten())\n",
    "model.add(tf.keras.layers.Dense(498, activation=\"softmax\"))"
   ]
  },
  {
   "cell_type": "code",
   "execution_count": 17,
   "id": "35090b14",
   "metadata": {
    "execution": {
     "iopub.execute_input": "2024-04-16T08:51:57.630696Z",
     "iopub.status.busy": "2024-04-16T08:51:57.629945Z",
     "iopub.status.idle": "2024-04-16T08:51:57.734770Z",
     "shell.execute_reply": "2024-04-16T08:51:57.733643Z"
    },
    "papermill": {
     "duration": 0.117696,
     "end_time": "2024-04-16T08:51:57.737420",
     "exception": false,
     "start_time": "2024-04-16T08:51:57.619724",
     "status": "completed"
    },
    "tags": []
   },
   "outputs": [
    {
     "name": "stdout",
     "output_type": "stream",
     "text": [
      "Model: \"sequential\"\n",
      "_________________________________________________________________\n",
      " Layer (type)                Output Shape              Param #   \n",
      "=================================================================\n",
      " conv2d (Conv2D)             (None, 150, 150, 64)      9408      \n",
      "                                                                 \n",
      " batch_normalization (Batch  (None, 150, 150, 64)      256       \n",
      " Normalization)                                                  \n",
      "                                                                 \n",
      " activation (Activation)     (None, 150, 150, 64)      0         \n",
      "                                                                 \n",
      " max_pooling2d (MaxPooling2  (None, 75, 75, 64)        0         \n",
      " D)                                                              \n",
      "                                                                 \n",
      " residual_unit (ResidualUni  (None, 75, 75, 64)        74240     \n",
      " t)                                                              \n",
      "                                                                 \n",
      " residual_unit_1 (ResidualU  (None, 75, 75, 64)        74240     \n",
      " nit)                                                            \n",
      "                                                                 \n",
      " residual_unit_2 (ResidualU  (None, 75, 75, 64)        74240     \n",
      " nit)                                                            \n",
      "                                                                 \n",
      " residual_unit_3 (ResidualU  (None, 38, 38, 128)       230912    \n",
      " nit)                                                            \n",
      "                                                                 \n",
      " residual_unit_4 (ResidualU  (None, 38, 38, 128)       295936    \n",
      " nit)                                                            \n",
      "                                                                 \n",
      " residual_unit_5 (ResidualU  (None, 38, 38, 128)       295936    \n",
      " nit)                                                            \n",
      "                                                                 \n",
      " residual_unit_6 (ResidualU  (None, 38, 38, 128)       295936    \n",
      " nit)                                                            \n",
      "                                                                 \n",
      " residual_unit_7 (ResidualU  (None, 19, 19, 256)       920576    \n",
      " nit)                                                            \n",
      "                                                                 \n",
      " residual_unit_8 (ResidualU  (None, 19, 19, 256)       1181696   \n",
      " nit)                                                            \n",
      "                                                                 \n",
      " residual_unit_9 (ResidualU  (None, 19, 19, 256)       1181696   \n",
      " nit)                                                            \n",
      "                                                                 \n",
      " residual_unit_10 (Residual  (None, 19, 19, 256)       1181696   \n",
      " Unit)                                                           \n",
      "                                                                 \n",
      " residual_unit_11 (Residual  (None, 19, 19, 256)       1181696   \n",
      " Unit)                                                           \n",
      "                                                                 \n",
      " residual_unit_12 (Residual  (None, 19, 19, 256)       1181696   \n",
      " Unit)                                                           \n",
      "                                                                 \n",
      " residual_unit_13 (Residual  (None, 10, 10, 512)       3676160   \n",
      " Unit)                                                           \n",
      "                                                                 \n",
      " residual_unit_14 (Residual  (None, 10, 10, 512)       4722688   \n",
      " Unit)                                                           \n",
      "                                                                 \n",
      " residual_unit_15 (Residual  (None, 10, 10, 512)       4722688   \n",
      " Unit)                                                           \n",
      "                                                                 \n",
      " global_average_pooling2d (  (None, 512)               0         \n",
      " GlobalAveragePooling2D)                                         \n",
      "                                                                 \n",
      " flatten (Flatten)           (None, 512)               0         \n",
      "                                                                 \n",
      " dense (Dense)               (None, 498)               255474    \n",
      "                                                                 \n",
      "=================================================================\n",
      "Total params: 21557170 (82.23 MB)\n",
      "Trainable params: 21540146 (82.17 MB)\n",
      "Non-trainable params: 17024 (66.50 KB)\n",
      "_________________________________________________________________\n"
     ]
    }
   ],
   "source": [
    "model.summary()"
   ]
  },
  {
   "cell_type": "code",
   "execution_count": 18,
   "id": "f26cc05f",
   "metadata": {
    "execution": {
     "iopub.execute_input": "2024-04-16T08:51:57.769774Z",
     "iopub.status.busy": "2024-04-16T08:51:57.769039Z",
     "iopub.status.idle": "2024-04-16T09:56:11.077374Z",
     "shell.execute_reply": "2024-04-16T09:56:11.076221Z"
    },
    "papermill": {
     "duration": 3853.32738,
     "end_time": "2024-04-16T09:56:11.080071",
     "exception": false,
     "start_time": "2024-04-16T08:51:57.752691",
     "status": "completed"
    },
    "tags": []
   },
   "outputs": [
    {
     "name": "stdout",
     "output_type": "stream",
     "text": [
      "Epoch 1/5\n",
      "2200/2200 [==============================] - 803s 346ms/step - loss: 5.1945 - accuracy: 0.0804 - val_loss: 5.5283 - val_accuracy: 0.0678\n",
      "Epoch 2/5\n",
      "2200/2200 [==============================] - 764s 347ms/step - loss: 4.7592 - accuracy: 0.1171 - val_loss: 5.6104 - val_accuracy: 0.0661\n",
      "Epoch 3/5\n",
      "2200/2200 [==============================] - 762s 346ms/step - loss: 4.4533 - accuracy: 0.1482 - val_loss: 5.0615 - val_accuracy: 0.1101\n",
      "Epoch 4/5\n",
      "2200/2200 [==============================] - 763s 346ms/step - loss: 4.1963 - accuracy: 0.1757 - val_loss: 4.6690 - val_accuracy: 0.1201\n",
      "Epoch 5/5\n",
      "2200/2200 [==============================] - 762s 346ms/step - loss: 3.9856 - accuracy: 0.1986 - val_loss: 4.5734 - val_accuracy: 0.1462\n"
     ]
    }
   ],
   "source": [
    "model.compile(loss=\"categorical_crossentropy\", optimizer=\"nadam\",\n",
    "              metrics=[\"accuracy\"])\n",
    "history = model.fit(train,\n",
    "                     epochs=5,\n",
    "                     validation_data=validation,\n",
    "                   )"
   ]
  },
  {
   "cell_type": "code",
   "execution_count": 19,
   "id": "b57d9f2e",
   "metadata": {
    "execution": {
     "iopub.execute_input": "2024-04-16T09:56:13.229950Z",
     "iopub.status.busy": "2024-04-16T09:56:13.229521Z",
     "iopub.status.idle": "2024-04-16T09:56:14.175684Z",
     "shell.execute_reply": "2024-04-16T09:56:14.174586Z"
    },
    "papermill": {
     "duration": 1.986174,
     "end_time": "2024-04-16T09:56:14.178174",
     "exception": false,
     "start_time": "2024-04-16T09:56:12.192000",
     "status": "completed"
    },
    "tags": []
   },
   "outputs": [
    {
     "data": {
      "image/png": "[encoded data removed]",
      "text/plain": [
       "<Figure size 2000x700 with 2 Axes>"
      ]
     },
     "metadata": {},
     "output_type": "display_data"
    }
   ],
   "source": [
    "import matplotlib.pyplot as plt\n",
    "\n",
    "def plot_learning_curves(history, model_name, ax):\n",
    "    ax.plot(history.history['loss'], label='Training Loss')\n",
    "    ax.plot(history.history['val_loss'], label='Validation Loss')\n",
    "    ax.set_title(f'{model_name} Learning Curve')\n",
    "    ax.set_xlabel('Epoch')\n",
    "    ax.set_ylabel('Loss')\n",
    "    ax.legend()\n",
    "\n",
    "def plot_accuracy_curves(history, model_name, ax):\n",
    "    ax.plot(history.history['accuracy'], label='Training Accuracy')\n",
    "    ax.plot(history.history['val_accuracy'], label='Validation Accuracy')\n",
    "    ax.set_title(f'{model_name} Accuracy Curve')\n",
    "    ax.set_xlabel('Epoch')\n",
    "    ax.set_ylabel('Accuracy')\n",
    "    ax.legend()\n",
    "\n",
    "fig, axs = plt.subplots(1, 2, figsize=(20, 7))  \n",
    "plot_learning_curves(history, model, axs[0])\n",
    "plot_accuracy_curves(history, model, axs[1])\n",
    "\n",
    "plt.tight_layout()\n",
    "plt.show()"
   ]
  },
  {
   "cell_type": "code",
   "execution_count": 20,
   "id": "f2c2b715",
   "metadata": {
    "execution": {
     "iopub.execute_input": "2024-04-16T09:56:16.331696Z",
     "iopub.status.busy": "2024-04-16T09:56:16.331070Z",
     "iopub.status.idle": "2024-04-16T09:56:18.853541Z",
     "shell.execute_reply": "2024-04-16T09:56:18.852278Z"
    },
    "papermill": {
     "duration": 3.564084,
     "end_time": "2024-04-16T09:56:18.856121",
     "exception": false,
     "start_time": "2024-04-16T09:56:15.292037",
     "status": "completed"
    },
    "tags": []
   },
   "outputs": [
    {
     "name": "stdout",
     "output_type": "stream",
     "text": [
      "Downloading data from https://storage.googleapis.com/tensorflow/keras-applications/xception/xception_weights_tf_dim_ordering_tf_kernels_notop.h5\n",
      "83683744/83683744 [==============================] - 0s 0us/step\n"
     ]
    }
   ],
   "source": [
    "tf.random.set_seed(42)\n",
    "\n",
    "base_model = tf.keras.applications.xception.Xception(weights=\"imagenet\",\n",
    "                                                     include_top=False)\n",
    "avg = tf.keras.layers.GlobalAveragePooling2D()(base_model.output)\n",
    "output = tf.keras.layers.Dense(498, activation=\"softmax\")(avg)\n",
    "model = tf.keras.Model(inputs=base_model.input, outputs=output)"
   ]
  },
  {
   "cell_type": "code",
   "execution_count": 21,
   "id": "01fb6d21",
   "metadata": {
    "execution": {
     "iopub.execute_input": "2024-04-16T09:56:21.025987Z",
     "iopub.status.busy": "2024-04-16T09:56:21.025380Z",
     "iopub.status.idle": "2024-04-16T09:56:21.036811Z",
     "shell.execute_reply": "2024-04-16T09:56:21.035803Z"
    },
    "papermill": {
     "duration": 1.151035,
     "end_time": "2024-04-16T09:56:21.039203",
     "exception": false,
     "start_time": "2024-04-16T09:56:19.888168",
     "status": "completed"
    },
    "tags": []
   },
   "outputs": [],
   "source": [
    "for layer in base_model.layers:\n",
    "    layer.trainable = False"
   ]
  },
  {
   "cell_type": "code",
   "execution_count": 22,
   "id": "98f3b3f8",
   "metadata": {
    "execution": {
     "iopub.execute_input": "2024-04-16T09:56:23.148326Z",
     "iopub.status.busy": "2024-04-16T09:56:23.147924Z",
     "iopub.status.idle": "2024-04-16T09:56:23.584570Z",
     "shell.execute_reply": "2024-04-16T09:56:23.583425Z"
    },
    "papermill": {
     "duration": 1.586313,
     "end_time": "2024-04-16T09:56:23.690375",
     "exception": false,
     "start_time": "2024-04-16T09:56:22.104062",
     "status": "completed"
    },
    "tags": []
   },
   "outputs": [
    {
     "name": "stdout",
     "output_type": "stream",
     "text": [
      "Model: \"model\"\n",
      "__________________________________________________________________________________________________\n",
      " Layer (type)                Output Shape                 Param #   Connected to                  \n",
      "==================================================================================================\n",
      " input_1 (InputLayer)        [(None, None, None, 3)]      0         []                            \n",
      "                                                                                                  \n",
      " block1_conv1 (Conv2D)       (None, None, None, 32)       864       ['input_1[0][0]']             \n",
      "                                                                                                  \n",
      " block1_conv1_bn (BatchNorm  (None, None, None, 32)       128       ['block1_conv1[0][0]']        \n",
      " alization)                                                                                       \n",
      "                                                                                                  \n",
      " block1_conv1_act (Activati  (None, None, None, 32)       0         ['block1_conv1_bn[0][0]']     \n",
      " on)                                                                                              \n",
      "                                                                                                  \n",
      " block1_conv2 (Conv2D)       (None, None, None, 64)       18432     ['block1_conv1_act[0][0]']    \n",
      "                                                                                                  \n",
      " block1_conv2_bn (BatchNorm  (None, None, None, 64)       256       ['block1_conv2[0][0]']        \n",
      " alization)                                                                                       \n",
      "                                                                                                  \n",
      " block1_conv2_act (Activati  (None, None, None, 64)       0         ['block1_conv2_bn[0][0]']     \n",
      " on)                                                                                              \n",
      "                                                                                                  \n",
      " block2_sepconv1 (Separable  (None, None, None, 128)      8768      ['block1_conv2_act[0][0]']    \n",
      " Conv2D)                                                                                          \n",
      "                                                                                                  \n",
      " block2_sepconv1_bn (BatchN  (None, None, None, 128)      512       ['block2_sepconv1[0][0]']     \n",
      " ormalization)                                                                                    \n",
      "                                                                                                  \n",
      " block2_sepconv2_act (Activ  (None, None, None, 128)      0         ['block2_sepconv1_bn[0][0]']  \n",
      " ation)                                                                                           \n",
      "                                                                                                  \n",
      " block2_sepconv2 (Separable  (None, None, None, 128)      17536     ['block2_sepconv2_act[0][0]'] \n",
      " Conv2D)                                                                                          \n",
      "                                                                                                  \n",
      " block2_sepconv2_bn (BatchN  (None, None, None, 128)      512       ['block2_sepconv2[0][0]']     \n",
      " ormalization)                                                                                    \n",
      "                                                                                                  \n",
      " conv2d_36 (Conv2D)          (None, None, None, 128)      8192      ['block1_conv2_act[0][0]']    \n",
      "                                                                                                  \n",
      " block2_pool (MaxPooling2D)  (None, None, None, 128)      0         ['block2_sepconv2_bn[0][0]']  \n",
      "                                                                                                  \n",
      " batch_normalization_36 (Ba  (None, None, None, 128)      512       ['conv2d_36[0][0]']           \n",
      " tchNormalization)                                                                                \n",
      "                                                                                                  \n",
      " add (Add)                   (None, None, None, 128)      0         ['block2_pool[0][0]',         \n",
      "                                                                     'batch_normalization_36[0][0]\n",
      "                                                                    ']                            \n",
      "                                                                                                  \n",
      " block3_sepconv1_act (Activ  (None, None, None, 128)      0         ['add[0][0]']                 \n",
      " ation)                                                                                           \n",
      "                                                                                                  \n",
      " block3_sepconv1 (Separable  (None, None, None, 256)      33920     ['block3_sepconv1_act[0][0]'] \n",
      " Conv2D)                                                                                          \n",
      "                                                                                                  \n",
      " block3_sepconv1_bn (BatchN  (None, None, None, 256)      1024      ['block3_sepconv1[0][0]']     \n",
      " ormalization)                                                                                    \n",
      "                                                                                                  \n",
      " block3_sepconv2_act (Activ  (None, None, None, 256)      0         ['block3_sepconv1_bn[0][0]']  \n",
      " ation)                                                                                           \n",
      "                                                                                                  \n",
      " block3_sepconv2 (Separable  (None, None, None, 256)      67840     ['block3_sepconv2_act[0][0]'] \n",
      " Conv2D)                                                                                          \n",
      "                                                                                                  \n",
      " block3_sepconv2_bn (BatchN  (None, None, None, 256)      1024      ['block3_sepconv2[0][0]']     \n",
      " ormalization)                                                                                    \n",
      "                                                                                                  \n",
      " conv2d_37 (Conv2D)          (None, None, None, 256)      32768     ['add[0][0]']                 \n",
      "                                                                                                  \n",
      " block3_pool (MaxPooling2D)  (None, None, None, 256)      0         ['block3_sepconv2_bn[0][0]']  \n",
      "                                                                                                  \n",
      " batch_normalization_37 (Ba  (None, None, None, 256)      1024      ['conv2d_37[0][0]']           \n",
      " tchNormalization)                                                                                \n",
      "                                                                                                  \n",
      " add_1 (Add)                 (None, None, None, 256)      0         ['block3_pool[0][0]',         \n",
      "                                                                     'batch_normalization_37[0][0]\n",
      "                                                                    ']                            \n",
      "                                                                                                  \n",
      " block4_sepconv1_act (Activ  (None, None, None, 256)      0         ['add_1[0][0]']               \n",
      " ation)                                                                                           \n",
      "                                                                                                  \n",
      " block4_sepconv1 (Separable  (None, None, None, 728)      188672    ['block4_sepconv1_act[0][0]'] \n",
      " Conv2D)                                                                                          \n",
      "                                                                                                  \n",
      " block4_sepconv1_bn (BatchN  (None, None, None, 728)      2912      ['block4_sepconv1[0][0]']     \n",
      " ormalization)                                                                                    \n",
      "                                                                                                  \n",
      " block4_sepconv2_act (Activ  (None, None, None, 728)      0         ['block4_sepconv1_bn[0][0]']  \n",
      " ation)                                                                                           \n",
      "                                                                                                  \n",
      " block4_sepconv2 (Separable  (None, None, None, 728)      536536    ['block4_sepconv2_act[0][0]'] \n",
      " Conv2D)                                                                                          \n",
      "                                                                                                  \n",
      " block4_sepconv2_bn (BatchN  (None, None, None, 728)      2912      ['block4_sepconv2[0][0]']     \n",
      " ormalization)                                                                                    \n",
      "                                                                                                  \n",
      " conv2d_38 (Conv2D)          (None, None, None, 728)      186368    ['add_1[0][0]']               \n",
      "                                                                                                  \n",
      " block4_pool (MaxPooling2D)  (None, None, None, 728)      0         ['block4_sepconv2_bn[0][0]']  \n",
      "                                                                                                  \n",
      " batch_normalization_38 (Ba  (None, None, None, 728)      2912      ['conv2d_38[0][0]']           \n",
      " tchNormalization)                                                                                \n",
      "                                                                                                  \n",
      " add_2 (Add)                 (None, None, None, 728)      0         ['block4_pool[0][0]',         \n",
      "                                                                     'batch_normalization_38[0][0]\n",
      "                                                                    ']                            \n",
      "                                                                                                  \n",
      " block5_sepconv1_act (Activ  (None, None, None, 728)      0         ['add_2[0][0]']               \n",
      " ation)                                                                                           \n",
      "                                                                                                  \n",
      " block5_sepconv1 (Separable  (None, None, None, 728)      536536    ['block5_sepconv1_act[0][0]'] \n",
      " Conv2D)                                                                                          \n",
      "                                                                                                  \n",
      " block5_sepconv1_bn (BatchN  (None, None, None, 728)      2912      ['block5_sepconv1[0][0]']     \n",
      " ormalization)                                                                                    \n",
      "                                                                                                  \n",
      " block5_sepconv2_act (Activ  (None, None, None, 728)      0         ['block5_sepconv1_bn[0][0]']  \n",
      " ation)                                                                                           \n",
      "                                                                                                  \n",
      " block5_sepconv2 (Separable  (None, None, None, 728)      536536    ['block5_sepconv2_act[0][0]'] \n",
      " Conv2D)                                                                                          \n",
      "                                                                                                  \n",
      " block5_sepconv2_bn (BatchN  (None, None, None, 728)      2912      ['block5_sepconv2[0][0]']     \n",
      " ormalization)                                                                                    \n",
      "                                                                                                  \n",
      " block5_sepconv3_act (Activ  (None, None, None, 728)      0         ['block5_sepconv2_bn[0][0]']  \n",
      " ation)                                                                                           \n",
      "                                                                                                  \n",
      " block5_sepconv3 (Separable  (None, None, None, 728)      536536    ['block5_sepconv3_act[0][0]'] \n",
      " Conv2D)                                                                                          \n",
      "                                                                                                  \n",
      " block5_sepconv3_bn (BatchN  (None, None, None, 728)      2912      ['block5_sepconv3[0][0]']     \n",
      " ormalization)                                                                                    \n",
      "                                                                                                  \n",
      " add_3 (Add)                 (None, None, None, 728)      0         ['block5_sepconv3_bn[0][0]',  \n",
      "                                                                     'add_2[0][0]']               \n",
      "                                                                                                  \n",
      " block6_sepconv1_act (Activ  (None, None, None, 728)      0         ['add_3[0][0]']               \n",
      " ation)                                                                                           \n",
      "                                                                                                  \n",
      " block6_sepconv1 (Separable  (None, None, None, 728)      536536    ['block6_sepconv1_act[0][0]'] \n",
      " Conv2D)                                                                                          \n",
      "                                                                                                  \n",
      " block6_sepconv1_bn (BatchN  (None, None, None, 728)      2912      ['block6_sepconv1[0][0]']     \n",
      " ormalization)                                                                                    \n",
      "                                                                                                  \n",
      " block6_sepconv2_act (Activ  (None, None, None, 728)      0         ['block6_sepconv1_bn[0][0]']  \n",
      " ation)                                                                                           \n",
      "                                                                                                  \n",
      " block6_sepconv2 (Separable  (None, None, None, 728)      536536    ['block6_sepconv2_act[0][0]'] \n",
      " Conv2D)                                                                                          \n",
      "                                                                                                  \n",
      " block6_sepconv2_bn (BatchN  (None, None, None, 728)      2912      ['block6_sepconv2[0][0]']     \n",
      " ormalization)                                                                                    \n",
      "                                                                                                  \n",
      " block6_sepconv3_act (Activ  (None, None, None, 728)      0         ['block6_sepconv2_bn[0][0]']  \n",
      " ation)                                                                                           \n",
      "                                                                                                  \n",
      " block6_sepconv3 (Separable  (None, None, None, 728)      536536    ['block6_sepconv3_act[0][0]'] \n",
      " Conv2D)                                                                                          \n",
      "                                                                                                  \n",
      " block6_sepconv3_bn (BatchN  (None, None, None, 728)      2912      ['block6_sepconv3[0][0]']     \n",
      " ormalization)                                                                                    \n",
      "                                                                                                  \n",
      " add_4 (Add)                 (None, None, None, 728)      0         ['block6_sepconv3_bn[0][0]',  \n",
      "                                                                     'add_3[0][0]']               \n",
      "                                                                                                  \n",
      " block7_sepconv1_act (Activ  (None, None, None, 728)      0         ['add_4[0][0]']               \n",
      " ation)                                                                                           \n",
      "                                                                                                  \n",
      " block7_sepconv1 (Separable  (None, None, None, 728)      536536    ['block7_sepconv1_act[0][0]'] \n",
      " Conv2D)                                                                                          \n",
      "                                                                                                  \n",
      " block7_sepconv1_bn (BatchN  (None, None, None, 728)      2912      ['block7_sepconv1[0][0]']     \n",
      " ormalization)                                                                                    \n",
      "                                                                                                  \n",
      " block7_sepconv2_act (Activ  (None, None, None, 728)      0         ['block7_sepconv1_bn[0][0]']  \n",
      " ation)                                                                                           \n",
      "                                                                                                  \n",
      " block7_sepconv2 (Separable  (None, None, None, 728)      536536    ['block7_sepconv2_act[0][0]'] \n",
      " Conv2D)                                                                                          \n",
      "                                                                                                  \n",
      " block7_sepconv2_bn (BatchN  (None, None, None, 728)      2912      ['block7_sepconv2[0][0]']     \n",
      " ormalization)                                                                                    \n",
      "                                                                                                  \n",
      " block7_sepconv3_act (Activ  (None, None, None, 728)      0         ['block7_sepconv2_bn[0][0]']  \n",
      " ation)                                                                                           \n",
      "                                                                                                  \n",
      " block7_sepconv3 (Separable  (None, None, None, 728)      536536    ['block7_sepconv3_act[0][0]'] \n",
      " Conv2D)                                                                                          \n",
      "                                                                                                  \n",
      " block7_sepconv3_bn (BatchN  (None, None, None, 728)      2912      ['block7_sepconv3[0][0]']     \n",
      " ormalization)                                                                                    \n",
      "                                                                                                  \n",
      " add_5 (Add)                 (None, None, None, 728)      0         ['block7_sepconv3_bn[0][0]',  \n",
      "                                                                     'add_4[0][0]']               \n",
      "                                                                                                  \n",
      " block8_sepconv1_act (Activ  (None, None, None, 728)      0         ['add_5[0][0]']               \n",
      " ation)                                                                                           \n",
      "                                                                                                  \n",
      " block8_sepconv1 (Separable  (None, None, None, 728)      536536    ['block8_sepconv1_act[0][0]'] \n",
      " Conv2D)                                                                                          \n",
      "                                                                                                  \n",
      " block8_sepconv1_bn (BatchN  (None, None, None, 728)      2912      ['block8_sepconv1[0][0]']     \n",
      " ormalization)                                                                                    \n",
      "                                                                                                  \n",
      " block8_sepconv2_act (Activ  (None, None, None, 728)      0         ['block8_sepconv1_bn[0][0]']  \n",
      " ation)                                                                                           \n",
      "                                                                                                  \n",
      " block8_sepconv2 (Separable  (None, None, None, 728)      536536    ['block8_sepconv2_act[0][0]'] \n",
      " Conv2D)                                                                                          \n",
      "                                                                                                  \n",
      " block8_sepconv2_bn (BatchN  (None, None, None, 728)      2912      ['block8_sepconv2[0][0]']     \n",
      " ormalization)                                                                                    \n",
      "                                                                                                  \n",
      " block8_sepconv3_act (Activ  (None, None, None, 728)      0         ['block8_sepconv2_bn[0][0]']  \n",
      " ation)                                                                                           \n",
      "                                                                                                  \n",
      " block8_sepconv3 (Separable  (None, None, None, 728)      536536    ['block8_sepconv3_act[0][0]'] \n",
      " Conv2D)                                                                                          \n",
      "                                                                                                  \n",
      " block8_sepconv3_bn (BatchN  (None, None, None, 728)      2912      ['block8_sepconv3[0][0]']     \n",
      " ormalization)                                                                                    \n",
      "                                                                                                  \n",
      " add_6 (Add)                 (None, None, None, 728)      0         ['block8_sepconv3_bn[0][0]',  \n",
      "                                                                     'add_5[0][0]']               \n",
      "                                                                                                  \n",
      " block9_sepconv1_act (Activ  (None, None, None, 728)      0         ['add_6[0][0]']               \n",
      " ation)                                                                                           \n",
      "                                                                                                  \n",
      " block9_sepconv1 (Separable  (None, None, None, 728)      536536    ['block9_sepconv1_act[0][0]'] \n",
      " Conv2D)                                                                                          \n",
      "                                                                                                  \n",
      " block9_sepconv1_bn (BatchN  (None, None, None, 728)      2912      ['block9_sepconv1[0][0]']     \n",
      " ormalization)                                                                                    \n",
      "                                                                                                  \n",
      " block9_sepconv2_act (Activ  (None, None, None, 728)      0         ['block9_sepconv1_bn[0][0]']  \n",
      " ation)                                                                                           \n",
      "                                                                                                  \n",
      " block9_sepconv2 (Separable  (None, None, None, 728)      536536    ['block9_sepconv2_act[0][0]'] \n",
      " Conv2D)                                                                                          \n",
      "                                                                                                  \n",
      " block9_sepconv2_bn (BatchN  (None, None, None, 728)      2912      ['block9_sepconv2[0][0]']     \n",
      " ormalization)                                                                                    \n",
      "                                                                                                  \n",
      " block9_sepconv3_act (Activ  (None, None, None, 728)      0         ['block9_sepconv2_bn[0][0]']  \n",
      " ation)                                                                                           \n",
      "                                                                                                  \n",
      " block9_sepconv3 (Separable  (None, None, None, 728)      536536    ['block9_sepconv3_act[0][0]'] \n",
      " Conv2D)                                                                                          \n",
      "                                                                                                  \n",
      " block9_sepconv3_bn (BatchN  (None, None, None, 728)      2912      ['block9_sepconv3[0][0]']     \n",
      " ormalization)                                                                                    \n",
      "                                                                                                  \n",
      " add_7 (Add)                 (None, None, None, 728)      0         ['block9_sepconv3_bn[0][0]',  \n",
      "                                                                     'add_6[0][0]']               \n",
      "                                                                                                  \n",
      " block10_sepconv1_act (Acti  (None, None, None, 728)      0         ['add_7[0][0]']               \n",
      " vation)                                                                                          \n",
      "                                                                                                  \n",
      " block10_sepconv1 (Separabl  (None, None, None, 728)      536536    ['block10_sepconv1_act[0][0]']\n",
      " eConv2D)                                                                                         \n",
      "                                                                                                  \n",
      " block10_sepconv1_bn (Batch  (None, None, None, 728)      2912      ['block10_sepconv1[0][0]']    \n",
      " Normalization)                                                                                   \n",
      "                                                                                                  \n",
      " block10_sepconv2_act (Acti  (None, None, None, 728)      0         ['block10_sepconv1_bn[0][0]'] \n",
      " vation)                                                                                          \n",
      "                                                                                                  \n",
      " block10_sepconv2 (Separabl  (None, None, None, 728)      536536    ['block10_sepconv2_act[0][0]']\n",
      " eConv2D)                                                                                         \n",
      "                                                                                                  \n",
      " block10_sepconv2_bn (Batch  (None, None, None, 728)      2912      ['block10_sepconv2[0][0]']    \n",
      " Normalization)                                                                                   \n",
      "                                                                                                  \n",
      " block10_sepconv3_act (Acti  (None, None, None, 728)      0         ['block10_sepconv2_bn[0][0]'] \n",
      " vation)                                                                                          \n",
      "                                                                                                  \n",
      " block10_sepconv3 (Separabl  (None, None, None, 728)      536536    ['block10_sepconv3_act[0][0]']\n",
      " eConv2D)                                                                                         \n",
      "                                                                                                  \n",
      " block10_sepconv3_bn (Batch  (None, None, None, 728)      2912      ['block10_sepconv3[0][0]']    \n",
      " Normalization)                                                                                   \n",
      "                                                                                                  \n",
      " add_8 (Add)                 (None, None, None, 728)      0         ['block10_sepconv3_bn[0][0]', \n",
      "                                                                     'add_7[0][0]']               \n",
      "                                                                                                  \n",
      " block11_sepconv1_act (Acti  (None, None, None, 728)      0         ['add_8[0][0]']               \n",
      " vation)                                                                                          \n",
      "                                                                                                  \n",
      " block11_sepconv1 (Separabl  (None, None, None, 728)      536536    ['block11_sepconv1_act[0][0]']\n",
      " eConv2D)                                                                                         \n",
      "                                                                                                  \n",
      " block11_sepconv1_bn (Batch  (None, None, None, 728)      2912      ['block11_sepconv1[0][0]']    \n",
      " Normalization)                                                                                   \n",
      "                                                                                                  \n",
      " block11_sepconv2_act (Acti  (None, None, None, 728)      0         ['block11_sepconv1_bn[0][0]'] \n",
      " vation)                                                                                          \n",
      "                                                                                                  \n",
      " block11_sepconv2 (Separabl  (None, None, None, 728)      536536    ['block11_sepconv2_act[0][0]']\n",
      " eConv2D)                                                                                         \n",
      "                                                                                                  \n",
      " block11_sepconv2_bn (Batch  (None, None, None, 728)      2912      ['block11_sepconv2[0][0]']    \n",
      " Normalization)                                                                                   \n",
      "                                                                                                  \n",
      " block11_sepconv3_act (Acti  (None, None, None, 728)      0         ['block11_sepconv2_bn[0][0]'] \n",
      " vation)                                                                                          \n",
      "                                                                                                  \n",
      " block11_sepconv3 (Separabl  (None, None, None, 728)      536536    ['block11_sepconv3_act[0][0]']\n",
      " eConv2D)                                                                                         \n",
      "                                                                                                  \n",
      " block11_sepconv3_bn (Batch  (None, None, None, 728)      2912      ['block11_sepconv3[0][0]']    \n",
      " Normalization)                                                                                   \n",
      "                                                                                                  \n",
      " add_9 (Add)                 (None, None, None, 728)      0         ['block11_sepconv3_bn[0][0]', \n",
      "                                                                     'add_8[0][0]']               \n",
      "                                                                                                  \n",
      " block12_sepconv1_act (Acti  (None, None, None, 728)      0         ['add_9[0][0]']               \n",
      " vation)                                                                                          \n",
      "                                                                                                  \n",
      " block12_sepconv1 (Separabl  (None, None, None, 728)      536536    ['block12_sepconv1_act[0][0]']\n",
      " eConv2D)                                                                                         \n",
      "                                                                                                  \n",
      " block12_sepconv1_bn (Batch  (None, None, None, 728)      2912      ['block12_sepconv1[0][0]']    \n",
      " Normalization)                                                                                   \n",
      "                                                                                                  \n",
      " block12_sepconv2_act (Acti  (None, None, None, 728)      0         ['block12_sepconv1_bn[0][0]'] \n",
      " vation)                                                                                          \n",
      "                                                                                                  \n",
      " block12_sepconv2 (Separabl  (None, None, None, 728)      536536    ['block12_sepconv2_act[0][0]']\n",
      " eConv2D)                                                                                         \n",
      "                                                                                                  \n",
      " block12_sepconv2_bn (Batch  (None, None, None, 728)      2912      ['block12_sepconv2[0][0]']    \n",
      " Normalization)                                                                                   \n",
      "                                                                                                  \n",
      " block12_sepconv3_act (Acti  (None, None, None, 728)      0         ['block12_sepconv2_bn[0][0]'] \n",
      " vation)                                                                                          \n",
      "                                                                                                  \n",
      " block12_sepconv3 (Separabl  (None, None, None, 728)      536536    ['block12_sepconv3_act[0][0]']\n",
      " eConv2D)                                                                                         \n",
      "                                                                                                  \n",
      " block12_sepconv3_bn (Batch  (None, None, None, 728)      2912      ['block12_sepconv3[0][0]']    \n",
      " Normalization)                                                                                   \n",
      "                                                                                                  \n",
      " add_10 (Add)                (None, None, None, 728)      0         ['block12_sepconv3_bn[0][0]', \n",
      "                                                                     'add_9[0][0]']               \n",
      "                                                                                                  \n",
      " block13_sepconv1_act (Acti  (None, None, None, 728)      0         ['add_10[0][0]']              \n",
      " vation)                                                                                          \n",
      "                                                                                                  \n",
      " block13_sepconv1 (Separabl  (None, None, None, 728)      536536    ['block13_sepconv1_act[0][0]']\n",
      " eConv2D)                                                                                         \n",
      "                                                                                                  \n",
      " block13_sepconv1_bn (Batch  (None, None, None, 728)      2912      ['block13_sepconv1[0][0]']    \n",
      " Normalization)                                                                                   \n",
      "                                                                                                  \n",
      " block13_sepconv2_act (Acti  (None, None, None, 728)      0         ['block13_sepconv1_bn[0][0]'] \n",
      " vation)                                                                                          \n",
      "                                                                                                  \n",
      " block13_sepconv2 (Separabl  (None, None, None, 1024)     752024    ['block13_sepconv2_act[0][0]']\n",
      " eConv2D)                                                                                         \n",
      "                                                                                                  \n",
      " block13_sepconv2_bn (Batch  (None, None, None, 1024)     4096      ['block13_sepconv2[0][0]']    \n",
      " Normalization)                                                                                   \n",
      "                                                                                                  \n",
      " conv2d_39 (Conv2D)          (None, None, None, 1024)     745472    ['add_10[0][0]']              \n",
      "                                                                                                  \n",
      " block13_pool (MaxPooling2D  (None, None, None, 1024)     0         ['block13_sepconv2_bn[0][0]'] \n",
      " )                                                                                                \n",
      "                                                                                                  \n",
      " batch_normalization_39 (Ba  (None, None, None, 1024)     4096      ['conv2d_39[0][0]']           \n",
      " tchNormalization)                                                                                \n",
      "                                                                                                  \n",
      " add_11 (Add)                (None, None, None, 1024)     0         ['block13_pool[0][0]',        \n",
      "                                                                     'batch_normalization_39[0][0]\n",
      "                                                                    ']                            \n",
      "                                                                                                  \n",
      " block14_sepconv1 (Separabl  (None, None, None, 1536)     1582080   ['add_11[0][0]']              \n",
      " eConv2D)                                                                                         \n",
      "                                                                                                  \n",
      " block14_sepconv1_bn (Batch  (None, None, None, 1536)     6144      ['block14_sepconv1[0][0]']    \n",
      " Normalization)                                                                                   \n",
      "                                                                                                  \n",
      " block14_sepconv1_act (Acti  (None, None, None, 1536)     0         ['block14_sepconv1_bn[0][0]'] \n",
      " vation)                                                                                          \n",
      "                                                                                                  \n",
      " block14_sepconv2 (Separabl  (None, None, None, 2048)     3159552   ['block14_sepconv1_act[0][0]']\n",
      " eConv2D)                                                                                         \n",
      "                                                                                                  \n",
      " block14_sepconv2_bn (Batch  (None, None, None, 2048)     8192      ['block14_sepconv2[0][0]']    \n",
      " Normalization)                                                                                   \n",
      "                                                                                                  \n",
      " block14_sepconv2_act (Acti  (None, None, None, 2048)     0         ['block14_sepconv2_bn[0][0]'] \n",
      " vation)                                                                                          \n",
      "                                                                                                  \n",
      " global_average_pooling2d_1  (None, 2048)                 0         ['block14_sepconv2_act[0][0]']\n",
      "  (GlobalAveragePooling2D)                                                                        \n",
      "                                                                                                  \n",
      " dense_1 (Dense)             (None, 498)                  1020402   ['global_average_pooling2d_1[0\n",
      "                                                                    ][0]']                        \n",
      "                                                                                                  \n",
      "==================================================================================================\n",
      "Total params: 21881882 (83.47 MB)\n",
      "Trainable params: 1020402 (3.89 MB)\n",
      "Non-trainable params: 20861480 (79.58 MB)\n",
      "__________________________________________________________________________________________________\n"
     ]
    }
   ],
   "source": [
    "model.summary()"
   ]
  },
  {
   "cell_type": "code",
   "execution_count": 23,
   "id": "e8670261",
   "metadata": {
    "execution": {
     "iopub.execute_input": "2024-04-16T09:56:25.918838Z",
     "iopub.status.busy": "2024-04-16T09:56:25.918368Z",
     "iopub.status.idle": "2024-04-16T10:40:09.208919Z",
     "shell.execute_reply": "2024-04-16T10:40:09.207936Z"
    },
    "papermill": {
     "duration": 2624.368984,
     "end_time": "2024-04-16T10:40:09.211528",
     "exception": false,
     "start_time": "2024-04-16T09:56:24.842544",
     "status": "completed"
    },
    "tags": []
   },
   "outputs": [
    {
     "name": "stdout",
     "output_type": "stream",
     "text": [
      "Epoch 1/5\n",
      "2200/2200 [==============================] - 535s 240ms/step - loss: 20.4233 - accuracy: 0.0290 - val_loss: 21.6252 - val_accuracy: 0.0361\n",
      "Epoch 2/5\n",
      "2200/2200 [==============================] - 518s 235ms/step - loss: 18.0852 - accuracy: 0.0445 - val_loss: 21.7018 - val_accuracy: 0.0361\n",
      "Epoch 3/5\n",
      "2200/2200 [==============================] - 525s 238ms/step - loss: 17.0868 - accuracy: 0.0535 - val_loss: 21.1131 - val_accuracy: 0.0361\n",
      "Epoch 4/5\n",
      "2200/2200 [==============================] - 520s 236ms/step - loss: 16.4875 - accuracy: 0.0609 - val_loss: 20.6799 - val_accuracy: 0.0584\n",
      "Epoch 5/5\n",
      "2200/2200 [==============================] - 524s 238ms/step - loss: 15.9927 - accuracy: 0.0678 - val_loss: 22.2167 - val_accuracy: 0.0411\n"
     ]
    }
   ],
   "source": [
    "model.compile(loss=\"categorical_crossentropy\", optimizer=\"nadam\",\n",
    "              metrics=[\"accuracy\"])\n",
    "history = model.fit(train,\n",
    "                     epochs=5,\n",
    "                     validation_data=validation,\n",
    "                   )"
   ]
  },
  {
   "cell_type": "code",
   "execution_count": 24,
   "id": "cb4ebac1",
   "metadata": {
    "execution": {
     "iopub.execute_input": "2024-04-16T10:40:13.557295Z",
     "iopub.status.busy": "2024-04-16T10:40:13.556262Z",
     "iopub.status.idle": "2024-04-16T13:41:07.495526Z",
     "shell.execute_reply": "2024-04-16T13:41:07.494542Z"
    },
    "papermill": {
     "duration": 10860.541681,
     "end_time": "2024-04-16T13:41:11.935603",
     "exception": false,
     "start_time": "2024-04-16T10:40:11.393922",
     "status": "completed"
    },
    "tags": []
   },
   "outputs": [
    {
     "name": "stdout",
     "output_type": "stream",
     "text": [
      "Epoch 1/10\n",
      "2200/2200 [==============================] - 1100s 495ms/step - loss: 5.1950 - accuracy: 0.0838 - val_loss: 5.1456 - val_accuracy: 0.0967\n",
      "Epoch 2/10\n",
      "2200/2200 [==============================] - 1087s 494ms/step - loss: 4.7292 - accuracy: 0.1196 - val_loss: 5.4439 - val_accuracy: 0.0784\n",
      "Epoch 3/10\n",
      "2200/2200 [==============================] - 1082s 492ms/step - loss: 4.5265 - accuracy: 0.1384 - val_loss: 5.0792 - val_accuracy: 0.1012\n",
      "Epoch 4/10\n",
      "2200/2200 [==============================] - 1080s 491ms/step - loss: 4.3661 - accuracy: 0.1538 - val_loss: 5.7076 - val_accuracy: 0.0678\n",
      "Epoch 5/10\n",
      "2200/2200 [==============================] - 1083s 492ms/step - loss: 4.2183 - accuracy: 0.1667 - val_loss: 5.1541 - val_accuracy: 0.0928\n",
      "Epoch 6/10\n",
      "2200/2200 [==============================] - 1083s 492ms/step - loss: 4.0743 - accuracy: 0.1802 - val_loss: 5.2027 - val_accuracy: 0.0839\n",
      "Epoch 7/10\n",
      "2200/2200 [==============================] - 1088s 494ms/step - loss: 3.9157 - accuracy: 0.1972 - val_loss: 5.5551 - val_accuracy: 0.0873\n",
      "Epoch 8/10\n",
      "2200/2200 [==============================] - 1081s 491ms/step - loss: 3.7486 - accuracy: 0.2156 - val_loss: 5.9402 - val_accuracy: 0.0600\n",
      "Epoch 9/10\n",
      "2200/2200 [==============================] - 1080s 491ms/step - loss: 3.5560 - accuracy: 0.2364 - val_loss: 5.9476 - val_accuracy: 0.0684\n",
      "Epoch 10/10\n",
      "2200/2200 [==============================] - 1088s 494ms/step - loss: 3.3370 - accuracy: 0.2631 - val_loss: 6.4827 - val_accuracy: 0.0639\n"
     ]
    }
   ],
   "source": [
    "for layer in base_model.layers[56:]:\n",
    "    layer.trainable = True\n",
    "\n",
    "optimizer = tf.keras.optimizers.SGD(learning_rate=0.01, momentum=0.9)\n",
    "model.compile(loss=\"categorical_crossentropy\", optimizer=optimizer,\n",
    "              metrics=[\"accuracy\"])\n",
    "history = model.fit(train, validation_data=validation, epochs=10)"
   ]
  }
 ],
 "metadata": {
  "kaggle": {
   "accelerator": "nvidiaTeslaT4",
   "dataSources": [
    {
     "datasetId": 1890383,
     "sourceId": 3117709,
     "sourceType": "datasetVersion"
    }
   ],
   "dockerImageVersionId": 30580,
   "isGpuEnabled": true,
   "isInternetEnabled": true,
   "language": "python",
   "sourceType": "notebook"
  },
  "kernelspec": {
   "display_name": "Python 3",
   "language": "python",
   "name": "python3"
  },
  "language_info": {
   "codemirror_mode": {
    "name": "ipython",
    "version": 3
   },
   "file_extension": ".py",
   "mimetype": "text/x-python",
   "name": "python",
   "nbconvert_exporter": "python",
   "pygments_lexer": "ipython3",
   "version": "3.10.12"
  },
  "papermill": {
   "default_parameters": {},
   "duration": 17927.119434,
   "end_time": "2024-04-16T13:41:19.159893",
   "environment_variables": {},
   "exception": null,
   "input_path": "__notebook__.ipynb",
   "output_path": "__notebook__.ipynb",
   "parameters": {},
   "start_time": "2024-04-16T08:42:32.040459",
   "version": "2.4.0"
  }
 },
 "nbformat": 4,
 "nbformat_minor": 5
}
